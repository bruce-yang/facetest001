{
  "cells": [
    {
      "cell_type": "markdown",
      "metadata": {
        "id": "view-in-github",
        "colab_type": "text"
      },
      "source": [
        "<a href=\"https://colab.research.google.com/github/bruce-yang/facetest001/blob/main/facetest001.ipynb\" target=\"_parent\"><img src=\"https://colab.research.google.com/assets/colab-badge.svg\" alt=\"Open In Colab\"/></a>"
      ]
    },
    {
      "cell_type": "code",
      "execution_count": null,
      "metadata": {
        "id": "LfXDWmk99Ntp",
        "cellView": "form"
      },
      "outputs": [],
      "source": [
        "#@title 1.获取代码\n",
        "\n",
        "tag = 'v3.6.0' #@param [\"v3.6.0\", ] {allow-input: true}\n",
        "\n",
        "!git clone https://github.com/bruce-yang/facetest001.git\n",
        "%cd /content/facetest001\n",
        "!git checkout {tag}"
      ]
    },
    {
      "cell_type": "code",
      "execution_count": null,
      "metadata": {
        "id": "xRbseCrr-h_Q",
        "cellView": "form"
      },
      "outputs": [],
      "source": [
        "#@title 2.安装依赖\n",
        "\n",
        "%cd /content/facetest001\n",
        "!python install.py --skip-conda --onnxruntime cuda-12.2\n"
      ]
    },
    {
      "cell_type": "code",
      "execution_count": null,
      "metadata": {
        "id": "nll7dBV6-7yU",
        "cellView": "form"
      },
      "outputs": [],
      "source": [
        "#@title 3.运行软件\n",
        "!python run.py"
      ]
    },
    {
      "cell_type": "markdown",
      "source": [
        "脚本来源：[facetest](https://github.com/bruce-yang/facetest001)  \n",
        "原项目：[facefusion](https://github.com/bruce-yang/facefusion)  \n",
        "关联脚本：[facetest](https://colab.research.google.com/github/bruce-yang/facetest001/blob/main/facetest001_1.0V.ipynb)\n",
        "\n",
        "\n",
        "\n"
      ],
      "metadata": {
        "id": "Rg6t68D_5BtS"
      }
    }
  ],
  "metadata": {
    "accelerator": "GPU",
    "colab": {
      "provenance": [],
      "toc_visible": true,
      "authorship_tag": "ABX9TyMH7jHKcwPAwPVpa0znYfz2",
      "include_colab_link": true
    },
    "kernelspec": {
      "display_name": "Python 3",
      "name": "python3"
    },
    "language_info": {
      "name": "python"
    }
  },
  "nbformat": 4,
  "nbformat_minor": 0
}
